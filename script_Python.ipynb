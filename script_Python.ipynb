{
 "cells": [
  {
   "cell_type": "markdown",
   "id": "cffabb0f",
   "metadata": {},
   "source": [
    "# Projet 6 : Classifiez automatiquement des biens de consommation\n",
    "\n",
    "\n",
    "L'entreprise souhaite désormais élargir sa gamme de produits, en particulier dans l’épicerie fine. Il nous est demandé de tester la collecte de produits à base de “champagne” via l’API fournie (https://rapidapi.com/edamam/api/edamam-food-and-grocery-database). L'objectif est de fournir à l'entreprise une extraction des 10 premiers produits dans un fichier “.csv”, contenant pour chaque produit les données suivantes : foodId, label, category, foodContentsLabel, image.\n",
    "\n",
    "\n",
    "# API\n",
    "\n",
    "Il est important de veiller au respect des normes RGPD dans toutes phases de la collecte et du stockage des données.\n",
    "\n",
    "Le RGPD, ou Règlement Général sur la Protection des Données, est un ensemble de lois européennes visant à protéger les données personnelles des individus. Les cinq grands principes du RGPD sont les suivants :\n",
    "\n",
    "1. La licéité, la loyauté et la transparence : Les données personnelles doivent être collectées et traitées de manière légale, loyale et transparente. Les individus doivent être informés de la manière dont leurs données sont collectées et traitées.\n",
    "\n",
    "2. La limitation des finalités : Les données personnelles ne doivent être collectées que dans un but précis, explicite et légitime, et ne doivent pas être traitées de manière incompatible avec ce but initial.\n",
    "\n",
    "3. La minimisation des données : Les données personnelles collectées doivent être adéquates, pertinentes et limitées à ce qui est nécessaire pour atteindre les finalités pour lesquelles elles sont collectées.\n",
    "\n",
    "4. L'exactitude : Les données personnelles doivent être exactes et tenues à jour si nécessaire. Des mesures doivent être prises pour garantir que les données inexactes soient rectifiées ou effacées.\n",
    "\n",
    "5. La conservation : Les données personnelles ne doivent pas être conservées plus longtemps que nécessaire pour atteindre les finalités pour lesquelles elles ont été collectées. Les mesures appropriées doivent être prises pour garantir la sécurité des données personnelles, y compris la protection contre la perte, la destruction ou les dommages accidentels.\n",
    "\n",
    "Ces cinq principes sont au cœur de la réglementation RGPD et sont destinés à garantir que les données personnelles des individus sont collectées, traitées et stockées de manière légale, équitable et transparente."
   ]
  },
  {
   "cell_type": "code",
   "execution_count": 19,
   "id": "81a199bf",
   "metadata": {},
   "outputs": [],
   "source": [
    "import pandas as pd\n",
    "import requests\n",
    "import csv\n",
    "\n",
    "rapidapi_key = \"5c09aaec44msh240cf318f93b764p187d09jsn3b3d8be99cae\"\n",
    "rapidapi_host = \"edamam-food-and-grocery-database.p.rapidapi.com\"\n",
    "\n",
    "url = \"https://edamam-food-and-grocery-database.p.rapidapi.com/api/food-database/v2/parser\"\n",
    "\n",
    "querystring = {\"ingr\":\"champagne\"}\n",
    "\n",
    "headers = {\n",
    "    'x-rapidapi-key': rapidapi_key,\n",
    "    'x-rapidapi-host': rapidapi_host\n",
    "}\n",
    "\n",
    "response = requests.request(\"GET\", url, headers=headers, params=querystring)\n",
    "\n",
    "res = response.json()\n",
    "products = res['hints'][:10] # récupérer les 10 premiers produits\n",
    "\n",
    "with open('produits.csv', mode='w', newline='') as file:\n",
    "    writer = csv.writer(file)\n",
    "    writer.writerow(['foodId', 'label', 'category', 'foodContentsLabel', 'image']) \n",
    "    for product in products:\n",
    "        food_id = product['food']['foodId']\n",
    "        label = product['food']['label']\n",
    "        category = product['food']['category']\n",
    "        try:\n",
    "            food_contents_label = product['food']['foodContentsLabel']\n",
    "        except KeyError:\n",
    "            food_contents_label = '' # Si la valeur n'est pas présente, initialiser la variable à une chaîne vide  \n",
    "        try:\n",
    "            image = product['food']['image']\n",
    "        except KeyError:\n",
    "            image = '' # Si la valeur n'est pas présente, initialiser la variable à une chaîne vide \n",
    "        \n",
    "        writer.writerow([food_id, label, category, food_contents_label, image])"
   ]
  },
  {
   "cell_type": "code",
   "execution_count": null,
   "id": "05679924",
   "metadata": {},
   "outputs": [],
   "source": []
  },
  {
   "cell_type": "code",
   "execution_count": null,
   "id": "84251be6",
   "metadata": {},
   "outputs": [],
   "source": []
  }
 ],
 "metadata": {
  "kernelspec": {
   "display_name": "Python 3 (ipykernel)",
   "language": "python",
   "name": "python3"
  },
  "language_info": {
   "codemirror_mode": {
    "name": "ipython",
    "version": 3
   },
   "file_extension": ".py",
   "mimetype": "text/x-python",
   "name": "python",
   "nbconvert_exporter": "python",
   "pygments_lexer": "ipython3",
   "version": "3.10.10"
  }
 },
 "nbformat": 4,
 "nbformat_minor": 5
}
